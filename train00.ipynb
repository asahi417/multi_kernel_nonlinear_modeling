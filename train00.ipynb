{
 "cells": [
  {
   "cell_type": "code",
   "execution_count": 1,
   "metadata": {
    "collapsed": true
   },
   "outputs": [],
   "source": [
    "% matplotlib inline\n",
    "from matplotlib import pyplot as plt"
   ]
  },
  {
   "cell_type": "code",
   "execution_count": 2,
   "metadata": {
    "collapsed": true
   },
   "outputs": [],
   "source": [
    "import numpy as np\n",
    "from itertools import product\n",
    "from model import MultiKernelRegressor as Regressor\n",
    "from model import MultiKernelRegressorPDA as Regressor_pda\n",
    "from model import nonlinear_siganl_2d"
   ]
  },
  {
   "cell_type": "code",
   "execution_count": 3,
   "metadata": {
    "collapsed": true
   },
   "outputs": [],
   "source": [
    "def ma(target, window):\n",
    "    return [np.mean(target[_s:_s+window]) for _s in range(len(target)-window)]\n",
    "\n",
    "def plot_result(regressor, window=50):\n",
    "    fig = plt.figure(0)\n",
    "    plt.plot(regressor.r_dict_size)\n",
    "    fig = plt.figure(1)\n",
    "    plt.plot(ma(regressor.r_error, window))\n",
    "    plt.yscale(\"log\")\n",
    "    plt.show()"
   ]
  },
  {
   "cell_type": "code",
   "execution_count": 4,
   "metadata": {
    "collapsed": true
   },
   "outputs": [],
   "source": [
    "size = 7000\n",
    "noise_std = 0.01\n",
    "x, y, y_noise = nonlinear_siganl_2d(size, noise_std)"
   ]
  },
  {
   "cell_type": "code",
   "execution_count": 5,
   "metadata": {
    "collapsed": true
   },
   "outputs": [],
   "source": [
    "a = np.arange(1, 10)\n",
    "b = np.arange(-4, 2)\n",
    "\n",
    "kernel_parameter = [i[0]*10.0**i[1] for i in product(a, b)]\n",
    "eta0 = 0.3\n",
    "dict_size = 20"
   ]
  },
  {
   "cell_type": "code",
   "execution_count": 6,
   "metadata": {},
   "outputs": [
    {
     "name": "stderr",
     "output_type": "stream",
     "text": [
      " 99% (6997 of 7000) |#################### | Elapsed Time: 0:01:36 ETA:  0:00:00"
     ]
    }
   ],
   "source": [
    "dictionary_th = 10**-11\n",
    "alpha_dict = 10**-7\n",
    "alpha_element = alpha_dict*10**-1\n",
    "\n",
    "regressor1 = Regressor(\n",
    "    eta0=eta0,\n",
    "    kernel_parameter=kernel_parameter,\n",
    "    dictionary_th=dictionary_th,\n",
    "    dict_size=dict_size,\n",
    "    alpha_dict=alpha_dict,\n",
    "    alpha_element=alpha_element\n",
    ")\n",
    "regressor1.fit(x, y)\n",
    "\n",
    "regressor2 = Regressor_pda(\n",
    "    eta0=eta0,\n",
    "    kernel_parameter=kernel_parameter,\n",
    "    dictionary_th=dictionary_th,\n",
    "    dict_size=dict_size,\n",
    "    alpha_dict=alpha_dict,\n",
    "    alpha_element=alpha_element\n",
    ")\n",
    "\n",
    "regressor2.fit(x, y)"
   ]
  },
  {
   "cell_type": "code",
   "execution_count": null,
   "metadata": {
    "collapsed": true
   },
   "outputs": [],
   "source": []
  },
  {
   "cell_type": "code",
   "execution_count": null,
   "metadata": {
    "collapsed": true
   },
   "outputs": [],
   "source": [
    "dictionary_th = 10**-11\n",
    "alpha_dict = 10**-7\n",
    "alpha_element = alpha_dict*10**-1\n",
    "\n",
    "regressor1 = Regressor(\n",
    "    eta0=eta0,\n",
    "    kernel_parameter=kernel_parameter,\n",
    "    dictionary_th=dictionary_th,\n",
    "    dict_size=dict_size,\n",
    "    alpha_dict=alpha_dict,\n",
    "    alpha_element=alpha_element\n",
    ")\n",
    "regressor1.fit(x, y)\n",
    "\n",
    "regressor2 = Regressor_pda(\n",
    "    eta0=eta0,\n",
    "    kernel_parameter=kernel_parameter,\n",
    "    dictionary_th=dictionary_th,\n",
    "    dict_size=dict_size,\n",
    "    alpha_dict=alpha_dict,\n",
    "    alpha_element=alpha_element\n",
    ")\n",
    "\n",
    "regressor2.fit(x, y)"
   ]
  }
 ],
 "metadata": {
  "kernelspec": {
   "display_name": "Python 3",
   "language": "python",
   "name": "python3"
  },
  "language_info": {
   "codemirror_mode": {
    "name": "ipython",
    "version": 3
   },
   "file_extension": ".py",
   "mimetype": "text/x-python",
   "name": "python",
   "nbconvert_exporter": "python",
   "pygments_lexer": "ipython3",
   "version": "3.6.0"
  }
 },
 "nbformat": 4,
 "nbformat_minor": 2
}
